{
 "cells": [
  {
   "cell_type": "code",
   "execution_count": 1,
   "id": "bd11a4a8",
   "metadata": {},
   "outputs": [],
   "source": [
    "#Case Study - Minimizing Data Center Energy Consumption Costs\n",
    "\n",
    "#Deep Q-Learning Implementation with Replay Experience\n",
    "\n",
    "#Libraries\n",
    "import numpy as np\n",
    "\n"
   ]
  },
  {
   "cell_type": "code",
   "execution_count": null,
   "id": "0b0971b2",
   "metadata": {},
   "outputs": [],
   "source": [
    "class DQN(object):\n",
    "    \n",
    "    #CREATION AND INITIALIZATION OF DQN PARAMETERS AND VARIABLES\n",
    "        def __init__(self, max_memory = 100, discount = 0.9):\n",
    "        self.memory = list()\n",
    "        self.max_memory = max_memory\n",
    "        self.discount = discount\n",
    "        \n",
    "    #MEMORY CREATION FOR THE REPLAY EXPERIENCE\n",
    "        def remember(self, transition, game_over):\n",
    "        self.memory.append([transition, game_over])\n",
    "        if len(self.memory) > self.max_memory:\n",
    "            del self.memory[0]\n",
    "    \n",
    "    #"
   ]
  }
 ],
 "metadata": {
  "kernelspec": {
   "display_name": "Python 3",
   "language": "python",
   "name": "python3"
  },
  "language_info": {
   "codemirror_mode": {
    "name": "ipython",
    "version": 3
   },
   "file_extension": ".py",
   "mimetype": "text/x-python",
   "name": "python",
   "nbconvert_exporter": "python",
   "pygments_lexer": "ipython3",
   "version": "3.8.8"
  }
 },
 "nbformat": 4,
 "nbformat_minor": 5
}
