{
 "cells": [
  {
   "cell_type": "code",
   "execution_count": null,
   "id": "756ea2d9",
   "metadata": {},
   "outputs": [],
   "source": [
    "#Case Study - Minimizing Data Center Energy Consumption Costs\n",
    "#Artificial Intelligence Test\n",
    "\n",
    "#libraries\n",
    "import os\n",
    "import numpy as np\n",
    "import random as rn\n",
    "import environment\n",
    "from keras.models import load_model"
   ]
  },
  {
   "cell_type": "code",
   "execution_count": null,
   "id": "9d386d23",
   "metadata": {},
   "outputs": [],
   "source": [
    "# Seed setup for reproducibility\n",
    "os.environ['PYTHONHASHSEED'] = '0'\n",
    "np.random.seed(42)\n",
    "rn.seed(12345)"
   ]
  },
  {
   "cell_type": "code",
   "execution_count": null,
   "id": "50995e7a",
   "metadata": {},
   "outputs": [],
   "source": [
    "# PARAMETER SETTING\n",
    "number_actions = 5\n",
    "direction_boundary = (number_actions - 1) / 2\n",
    "temperature_step = 1.5"
   ]
  },
  {
   "cell_type": "code",
   "execution_count": null,
   "id": "08ded241",
   "metadata": {},
   "outputs": [],
   "source": [
    "#ENVIRONMENT CREATION\n",
    "env = environment.Environment(optimal_temperature = (18.0, 24.0), initial_month = 0,\n",
    "                              initial_number_users = 20, initial_rate_data = 30)"
   ]
  },
  {
   "cell_type": "code",
   "execution_count": null,
   "id": "8bc5a291",
   "metadata": {},
   "outputs": [],
   "source": [
    "# MODEL LOADING\n",
    "model = load_model(\"model.h5\")"
   ]
  },
  {
   "cell_type": "code",
   "execution_count": null,
   "id": "5330ebe6",
   "metadata": {},
   "outputs": [],
   "source": [
    "#SETTING THE TRAINING/TEST MODE\n",
    "train = False"
   ]
  },
  {
   "cell_type": "code",
   "execution_count": null,
   "id": "47e409c3",
   "metadata": {},
   "outputs": [],
   "source": [
    "#ARTIFICIAL INTELLIGENCE TEST (1-YEAR SIMULATION)\n",
    "env.train = train\n",
    "current_state, _, _ = env.observe()\n",
    "for timestep in range(0, 12 * 30 * 24 * 60):\n",
    "    q_values = model.predict(current_state)\n",
    "    action = np.argmax(q_values[0])\n",
    "    if (action - direction_boundary < 0):\n",
    "        direction = -1\n",
    "    else:\n",
    "        direction = 1\n",
    "    energy_ai = abs(action - direction_boundary) * temperature_step\n",
    "    next_state, reward, game_over = env.update_env(direction, energy_ai, int(timestep / (30 * 24 * 60)))\n",
    "    current_state = next_state"
   ]
  },
  {
   "cell_type": "code",
   "execution_count": null,
   "id": "3ba77809",
   "metadata": {},
   "outputs": [],
   "source": [
    "# PRINTING THE RESULTS\n",
    "print(\"\\n\")\n",
    "print(\"Total energy spent with AI: {:.0f}\".format(env.total_energy_ai))\n",
    "print(\"Total energy spent with no AI: {:.0f}\".format(env.total_energy_noai))\n",
    "print(\"ENERGY SAVED: {:.0f}\".format((env.total_energy_noai - env.total_energy_ai) / env.total_energy_noai * 100))"
   ]
  }
 ],
 "metadata": {
  "kernelspec": {
   "display_name": "Python 3",
   "language": "python",
   "name": "python3"
  },
  "language_info": {
   "codemirror_mode": {
    "name": "ipython",
    "version": 3
   },
   "file_extension": ".py",
   "mimetype": "text/x-python",
   "name": "python",
   "nbconvert_exporter": "python",
   "pygments_lexer": "ipython3",
   "version": "3.8.8"
  }
 },
 "nbformat": 4,
 "nbformat_minor": 5
}
