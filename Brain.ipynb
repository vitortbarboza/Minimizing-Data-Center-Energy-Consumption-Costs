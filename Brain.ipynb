{
 "cells": [
  {
   "cell_type": "code",
   "execution_count": null,
   "id": "d5387aef",
   "metadata": {},
   "outputs": [],
   "source": [
    "#Case Study - Minimizing Data Center Energy Consumption Costs\n",
    "\n",
    "#Libraries\n",
    "from keras.layers import Input, Dense\n",
    "from keras.models import Model\n",
    "from tensorflow.keras.optimizers import Adam"
   ]
  },
  {
   "cell_type": "code",
   "execution_count": null,
   "id": "44db5ad6",
   "metadata": {},
   "outputs": [],
   "source": [
    "#Building the brain (neural network)\n",
    "class Brain(object):\n",
    "    #Building the architecture of the dense neural network within the init method\n",
    "    \n",
    "        def __init__(self, learning_rate = 0.001, number_actions = 5):\n",
    "        self.learning_rate = learning_rate\n",
    "    #Creating the input layer consisting of the input state\n",
    "    states = Input(shape = (3,) )\n",
    "    \n",
    "    #Creating the hidden layers of the dense neural network\n",
    "            x = Dense(units = 64, activation = 'sigmoid')(states)\n",
    "        y = Dense(units = 32, activation = 'sigmoid')(x)\n",
    "    \n",
    "    #Creating of the output layer,connected with the last hidden layer\n",
    "    q_values = Dense(units = number_actions, activation = 'softmax')(y)\n",
    "    \n",
    "    # Aggregate all layers into onde model (Object model)\n",
    "    self.model = Model(inputs = states, outputs = q_values)\n",
    "    \n",
    "    #Model building, using error function and optimizer\n",
    "    self.model.compile(loss = 'mse', optimizer = Adam(lr = self.learning_rate))"
   ]
  }
 ],
 "metadata": {
  "kernelspec": {
   "display_name": "Python 3",
   "language": "python",
   "name": "python3"
  },
  "language_info": {
   "codemirror_mode": {
    "name": "ipython",
    "version": 3
   },
   "file_extension": ".py",
   "mimetype": "text/x-python",
   "name": "python",
   "nbconvert_exporter": "python",
   "pygments_lexer": "ipython3",
   "version": "3.8.8"
  }
 },
 "nbformat": 4,
 "nbformat_minor": 5
}
